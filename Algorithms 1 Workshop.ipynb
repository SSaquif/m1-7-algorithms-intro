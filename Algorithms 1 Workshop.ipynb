{
 "cells": [
  {
   "cell_type": "markdown",
   "metadata": {},
   "source": [
    "__Name:__ Sadnan Saquif"
   ]
  },
  {
   "cell_type": "markdown",
   "metadata": {
    "colab_type": "text",
    "id": "c8zuAcfM5lDz"
   },
   "source": [
    "# 1. Big-O Theory exercises\n",
    "\n",
    "1. What is the big-O of the following algorithm? Assume `A` is an array of numbers\n",
    "\n",
    "```python\n",
    "def number_in_array(A, num):\n",
    "  for i in range(len(A)):\n",
    "    if A[i] == num:\n",
    "      return True\n",
    "  return False\n",
    "```\n",
    "__Answer__ <br/>\n",
    "O(len(A)) == __O(n)__\n",
    "\n",
    "2. What is the big-O of the following algorithm? Assume `A` and `B` are arrays of numbers of the **same length n**\n",
    "\n",
    "```python\n",
    "def number_in_two_arrays(A, B, num):\n",
    "  arr_len = len(A)\n",
    "  for i in range(arr_len):\n",
    "    if A[i] == num:\n",
    "      return True\n",
    "  for i in range(arr_len):\n",
    "    if B[i] == num:\n",
    "      return True\n",
    "  return False\n",
    "```\n",
    "__Answer__ <br/>\n",
    "O(len(A)) + O(len(A)) == O(n) + O(n) == O(2n) == __O(n)__\n",
    "\n",
    "3. What would be the big-O above if `A` was length `n` and `B` was length `m`?\n",
    "\n",
    "4. What is the big-O of the following algorithm? Assume `A` and `B` are arrays of numbers of the **same length n**\n",
    "\n",
    "```python\n",
    "def number_in_two_arrays(A, B, num):\n",
    "  arr_len = len(A)\n",
    "  for i in range(arr_len):\n",
    "    for j in range(arr_len):\n",
    "    if A[i] == B[j]:\n",
    "      return True\n",
    "  return False\n",
    "```\n",
    "__Answer__ <br/>\n",
    "_Different Lengths_ <br/>\n",
    "O(len(A)) * O(len(B)) == O(n) * O(m) == O(nm) == __O(n<sup>2</sup>)__ <br/>\n",
    "_Same Lengths_ <br/>\n",
    "O(len(A)) * O(len(A)) == O(n) * O(n) == __O(n<sup>2</sup>)__"
   ]
  },
  {
   "cell_type": "markdown",
   "metadata": {},
   "source": [
    "# Selection Sort (For Reference)\n",
    "## Not Part of the given question\n",
    "I always forget which sort is called which what, so I put the definition of selection sort here and coded it out. So I always have a reference \n",
    "\n",
    "__Overview__\n",
    "\n",
    "The selection sort algorithm sorts an array by repeatedly finding the minimum element (considering ascending order) from unsorted part and putting it at the beginning. The algorithm maintains two subarrays in a given array.\n",
    "\n",
    "1. The partial which is already sorted.\n",
    "2. Remaining ppart of array which is unsorted.\n",
    "\n",
    "In every iteration of selection sort, the minimum element (considering ascending order) from the unsorted subarray is picked and moved to the sorted subarray."
   ]
  },
  {
   "cell_type": "code",
   "execution_count": 1,
   "metadata": {},
   "outputs": [],
   "source": [
    "def selection_sort(l1):\n",
    "    for i in range(len(l1)): \n",
    "\n",
    "        min_i = i \n",
    "      \n",
    "        for j in range(i+1, len(l1)):\n",
    "            if l1[min_i] > l1[j]: \n",
    "                min_i = j \n",
    "        # Swap\n",
    "        l1[i], l1[min_i] = l1[min_i], l1[i] \n",
    "\n",
    "\n",
    "list1 = [1,-10,0,20,40,30] \n",
    "selection_sort(list1)\n",
    "print (\"Sorted array\", list1)"
   ]
  },
  {
   "cell_type": "markdown",
   "metadata": {
    "colab_type": "text",
    "id": "4lz1Ha-E_CQ1"
   },
   "source": [
    "# Reverse Sort\n",
    "\n",
    "Rewrite `selection_sort` so that it sorts in **reverse order** instead (biggest element first, smallest last)"
   ]
  },
  {
   "cell_type": "code",
   "execution_count": 2,
   "metadata": {},
   "outputs": [
    {
     "name": "stdout",
     "output_type": "stream",
     "text": [
      "Sorted array [40, 30, 20, 1, 0, -10]\n"
     ]
    }
   ],
   "source": [
    "def reverse_selection_sort(l1):\n",
    "    for i in range(len(l1)):\n",
    "        max_i = i \n",
    "        for j in range(i+1, len(l1)): \n",
    "            if l1[max_i] < l1[j]: \n",
    "                max_i = j \n",
    "        # Swap\n",
    "        l1[i], l1[max_i] = l1[max_i], l1[i] \n",
    "\n",
    "list1 = [1,-10,0,20,40,30]\n",
    "reverse_selection_sort(list1)\n",
    "print (\"Sorted array\", list1) \n"
   ]
  },
  {
   "cell_type": "markdown",
   "metadata": {
    "colab": {},
    "colab_type": "code",
    "id": "kLzOQr8tAAIG"
   },
   "source": [
    "# Two sum (Brute Force)\n",
    "\n",
    "Two sum. Given an array and a number N, return True if there are numbers A, B in the array such that A + B = N. Otherwise, return False.\n",
    "\n",
    "```\n",
    "two_sum([1, 2, 3, 4], 5) ⇒ True\n",
    "two_sum([3, 4, 6], 6) ⇒ False\n",
    "```\n",
    "\n",
    "Write a brute force $O(n^2)$ algorithm"
   ]
  },
  {
   "cell_type": "code",
   "execution_count": 3,
   "metadata": {},
   "outputs": [
    {
     "name": "stdout",
     "output_type": "stream",
     "text": [
      "True\n",
      "True\n",
      "False\n",
      "False\n"
     ]
    }
   ],
   "source": [
    "# Two nested loops dependant on list size O(n) * 0(n-1) = O(n^2-n) = O(n^2)\n",
    "def two_sum(list1, target):\n",
    "    list_size = len(list1)\n",
    "    for i in range(list_size):\n",
    "        \n",
    "        for j in range(i+1,list_size):            \n",
    "            if target == list1[i] + list1[j]:\n",
    "                return True\n",
    "    return False\n",
    "            \n",
    "print(two_sum([1, 2, 3, 4 ], 6))\n",
    "print(two_sum([1, 2, 3, 4, 4], 8)) #list with duplicate\n",
    "print(two_sum([3,4,6],3))\n",
    "print(two_sum([3,4,6],6))"
   ]
  },
  {
   "cell_type": "markdown",
   "metadata": {},
   "source": [
    "# Two Sum (Fast Version)\n",
    "\n",
    "Write a linear time version $O(N)$ for the two sum problem\n",
    "\n",
    "[Useful Solution Reference](https://web.stanford.edu/class/cs9/sample_probs/TwoSum.pdf)"
   ]
  },
  {
   "cell_type": "code",
   "execution_count": 4,
   "metadata": {},
   "outputs": [
    {
     "name": "stdout",
     "output_type": "stream",
     "text": [
      "True\n",
      "True\n",
      "False\n",
      "False\n"
     ]
    }
   ],
   "source": [
    "# Solution works even if  there is some A == B, ie duplicates in list\n",
    "# Runtime O(n) + O(n) = O(2n) = O(n)\n",
    "def linear_time_two_sum(list1,target):\n",
    "    number_dict = {} \n",
    "    \n",
    "    # O(n)\n",
    "    # Populate the dictionary, where\n",
    "    # key = A number from list\n",
    "    # value = Number of Ocurrences of said number in the list\n",
    "    for key in list1:\n",
    "        if key in number_dict:\n",
    "            number_dict[key] += 1\n",
    "        else:\n",
    "            number_dict[key] = 1\n",
    "    \n",
    "    # O(n)\n",
    "    for currentNumber in list1:\n",
    "        needed = target - currentNumber\n",
    "        if needed in number_dict:\n",
    "            # the second condition allows for duplicates in the list\n",
    "            if needed != currentNumber or number_dict[needed] > 1:\n",
    "                return True\n",
    "            \n",
    "    return False\n",
    "        \n",
    "\n",
    "print(linear_time_two_sum([1, 2, 3, 4 ], 6))\n",
    "print(linear_time_two_sum([1, 2, 3, 4, 4], 8)) #list with duplicate\n",
    "print(linear_time_two_sum([3,4,6],3))\n",
    "print(linear_time_two_sum([3,4,6],6))"
   ]
  },
  {
   "cell_type": "markdown",
   "metadata": {},
   "source": [
    "# Two Sum (itertools version)\n",
    "\n",
    "Use `itertools.combinations` to write a $O(N)$ algorithm for two sum"
   ]
  },
  {
   "cell_type": "code",
   "execution_count": 5,
   "metadata": {},
   "outputs": [
    {
     "name": "stdout",
     "output_type": "stream",
     "text": [
      "True\n",
      "True\n",
      "False\n",
      "False\n"
     ]
    }
   ],
   "source": [
    "from itertools import combinations\n",
    "\n",
    "def itertools_two_sum(list1, target):\n",
    "    digit_tuple = combinations(list1, 2)\n",
    "    \n",
    "    for digits in digit_tuple:\n",
    "        if digits[0] + digits[1] == target:\n",
    "            return True\n",
    "    \n",
    "    return False\n",
    "\n",
    "print(itertools_two_sum([1, 2, 3, 4 ], 6))\n",
    "print(itertools_two_sum([1, 2, 3, 4, 4], 8)) #list with duplicate\n",
    "print(itertools_two_sum([3,4,6],3))\n",
    "print(itertools_two_sum([3,4,6],6))"
   ]
  },
  {
   "cell_type": "markdown",
   "metadata": {},
   "source": [
    "# Linked Lists\n",
    "\n",
    "Unlike a regular array, a [Linked List](https://en.wikipedia.org/wiki/Linked_list) is a container where inserting a new element somewhere in the middle is $O(1)$. \n",
    "\n",
    "For a regular array inserting an element in the middle is $O(N)$, because we need to \"shift back\" all the elements after it. In practice, we might also have to allocate new memory to fit in the element.\n",
    "\n",
    "A linked list is a series of elements, `Node(value, next)` which work as follows:\n",
    "\n",
    "- The `value` field is the element value -- python object at that place in the list (like elements in a python `list`)\n",
    "\n",
    "- The `next` field points to the next element in the linked list. In python holding a reference to the element does this (the same way a python list holds references to objects)\n",
    "\n",
    "### Exercise\n",
    "\n",
    "Implement the `Node` Class as described above then initialize a list with 5 elements `(3 -> 'cat' -> 'dog' -> 55 -> 56)`"
   ]
  },
  {
   "cell_type": "markdown",
   "metadata": {},
   "source": [
    "# Reversing a linked list\n",
    "\n",
    "Write a $O(N)$ function `reverse_ll` that reverses all the pointers in a linked list:\n",
    "\n",
    "```\n",
    "(a -> b -> c) ⇒ (c -> b -> a)\n",
    "```\n",
    "\n",
    "Note: You don't have to reverse their order in the python tuple/list if that's where you're holding them. Just reverse their `Node` pointers to each other"
   ]
  },
  {
   "cell_type": "code",
   "execution_count": 6,
   "metadata": {},
   "outputs": [
    {
     "name": "stdout",
     "output_type": "stream",
     "text": [
      "---------------------------------------------------\n",
      "Creating Linked List\n",
      "---------------------------------------------------\n",
      "3\n",
      "cat\n",
      "dog\n",
      "55\n",
      "56\n",
      "---------------------------------------------------\n",
      "Reversing Linked List with the first node as Input\n",
      "---------------------------------------------------\n",
      "56\n",
      "55\n",
      "dog\n",
      "cat\n",
      "3\n",
      "---------------------------------------------------\n",
      "Reversing Linked List with a List as Input\n",
      "---------------------------------------------------\n",
      "56\n",
      "55\n",
      "dog\n",
      "cat\n",
      "3\n",
      "---------------------------------------------------\n"
     ]
    }
   ],
   "source": [
    "# This is a Linked List Node\n",
    "class Node:\n",
    "    def __init__(self, value):\n",
    "        self.value = value\n",
    "        self.next = None\n",
    "        \n",
    "    # This will append to the middle\n",
    "    def append(self, value):\n",
    "        newNode = None\n",
    "        \n",
    "        if isinstance(value, Node):\n",
    "            newNode = value\n",
    "        else:\n",
    "            newNode = Node(value)\n",
    "            \n",
    "        if self.next:\n",
    "            newNode.next = self.next\n",
    "            \n",
    "        self.next = newNode\n",
    "    \n",
    "    # This will loop to the end of Linked_list, and then append the new node\n",
    "    def append_tail(self,value):\n",
    "        newNode = None\n",
    "        \n",
    "        if isinstance(value, Node):\n",
    "            newNode = value\n",
    "        else:\n",
    "            newNode = Node(value)\n",
    "        \n",
    "        while(self.next):\n",
    "            self = self.next\n",
    "        \n",
    "        self.next = newNode\n",
    "    \n",
    "    # This will print out all the consequent nodes starting with \n",
    "    def print_linked_list(self):        \n",
    "        while(self):\n",
    "            print(self.value)\n",
    "            self = self.next\n",
    "\n",
    "# Worst Case Runtime = O(n) + O(n) = O(2n) = O(n) \n",
    "# Best Case Runtime = O(n) \n",
    "def reverse_linked_list(initial_item):\n",
    "    first_node = None\n",
    "    \n",
    "    # The following allows the function \n",
    "    # to take either a Node/List as input\n",
    "    if not isinstance(initial_item, Node):\n",
    "        if isinstance(initial_item, list):\n",
    "            first_node = Node(initial_item[0])\n",
    "            current_node = first_node\n",
    "            # O(n)\n",
    "            for i in range(1, len(initial_item)):                \n",
    "                current_node.append(initial_item[i])\n",
    "                current_node = current_node.next\n",
    "        else:\n",
    "            return \"Invalid argument type, argument must be of type Node OR List\"\n",
    "    else:\n",
    "        first_node = initial_item\n",
    "    \n",
    "    # Reversal Code\n",
    "    prev = None\n",
    "    current = first_node\n",
    "    \n",
    "    # O(n)\n",
    "    while(current):       \n",
    "        next_node = current.next        \n",
    "        current.next = prev\n",
    "        prev = current\n",
    "        current = next_node\n",
    "    \n",
    "    # prev is now the first element in the Linled List\n",
    "    # returns the prev Node\n",
    "    return prev  \n",
    "\n",
    "print('---------------------------------------------------')\n",
    "print('Creating Linked List')            \n",
    "print('---------------------------------------------------')\n",
    "n1 = Node(3)        \n",
    "# n2 = Node('cat')\n",
    "n3 = Node('dog')\n",
    "n4 = Node(55)\n",
    "n5 = Node(56)\n",
    "n1.append(n3) # 3 -> cat\n",
    "n1.append('cat') # 3- > cat-> dog # Inserting in the middle\n",
    "n3.append(n4) # 3 -> cat -> dog -> 55 \n",
    "n1.append_tail(n5) # 3 -> cat -> dog -> 55 -> 56\n",
    "n1.print_linked_list()        \n",
    "\n",
    "print('---------------------------------------------------')\n",
    "print('Reversing Linked List with the first node as Input')        \n",
    "print('---------------------------------------------------')\n",
    "reverse_linked_list(n1)\n",
    "n5.print_linked_list() # After reversal n5 is the first node\n",
    "print('---------------------------------------------------')\n",
    "print('Reversing Linked List with a List as Input')        \n",
    "print('---------------------------------------------------')\n",
    "reverse_linked_list([3,'cat','dog', 55, 56]).print_linked_list()\n",
    "print('---------------------------------------------------')"
   ]
  },
  {
   "cell_type": "code",
   "execution_count": null,
   "metadata": {},
   "outputs": [],
   "source": []
  }
 ],
 "metadata": {
  "colab": {
   "authorship_tag": "ABX9TyOATH9BoLFARMvG0o+Vj9NT",
   "collapsed_sections": [],
   "name": "Algorithms 1 Workshop.ipynb",
   "provenance": []
  },
  "kernelspec": {
   "display_name": "Python 3",
   "language": "python",
   "name": "python3"
  },
  "language_info": {
   "codemirror_mode": {
    "name": "ipython",
    "version": 3
   },
   "file_extension": ".py",
   "mimetype": "text/x-python",
   "name": "python",
   "nbconvert_exporter": "python",
   "pygments_lexer": "ipython3",
   "version": "3.8.3"
  }
 },
 "nbformat": 4,
 "nbformat_minor": 1
}
